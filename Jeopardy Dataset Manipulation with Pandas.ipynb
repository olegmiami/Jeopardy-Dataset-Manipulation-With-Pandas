{
 "cells": [
  {
   "cell_type": "markdown",
   "metadata": {},
   "source": [
    "# Jeopardy dataset manipulation with Pandas"
   ]
  },
  {
   "cell_type": "markdown",
   "metadata": {},
   "source": [
    "#### Project Goals"
   ]
  },
  {
   "cell_type": "markdown",
   "metadata": {},
   "source": [
    "Write several functions that investigate a dataset of _Jeopardy!_ questions and answers."
   ]
  },
  {
   "cell_type": "markdown",
   "metadata": {},
   "source": [
    "#### Author:\n",
    "\n",
    "Oleg Astafyev"
   ]
  },
  {
   "cell_type": "markdown",
   "metadata": {},
   "source": [
    "## Project Requirements"
   ]
  },
  {
   "cell_type": "markdown",
   "metadata": {},
   "source": [
    "1. We've provided a csv file containing data about the game show _Jeopardy!_ in a file named `jeopardy.csv`. Load the data into a DataFrame and investigate its contents. Try to print out specific columns.\n",
    "\n",
    "   Note that in order to make this project as \"real-world\" as possible, we haven't modified the data at all - we're giving it to you exactly how we found it. As a result, this data isn't as \"clean\" as the datasets you normally find on Codecademy. More specifically, there's something odd about the column names. After you figure out the problem with the column names, you may want to rename them to make your life easier for the rest of the project.\n",
    "   \n",
    "   In order to display the full contents of a column, we've added this line of code for you:\n",
    "   \n",
    "   ```py\n",
    "   pd.set_option('display.max_colwidth', None)\n",
    "   ```"
   ]
  },
  {
   "cell_type": "code",
   "execution_count": 1,
   "metadata": {},
   "outputs": [
    {
     "name": "stdout",
     "output_type": "stream",
     "text": [
      "Index(['Show Number', ' Air Date', ' Round', ' Category', ' Value',\n",
      "       ' Question', ' Answer'],\n",
      "      dtype='object')\n",
      "Index(['Show Number', 'Air Date', 'Round', 'Category', 'Value', 'Question',\n",
      "       'Answer'],\n",
      "      dtype='object')\n"
     ]
    }
   ],
   "source": [
    "import pandas as pd\n",
    "import numpy as np\n",
    "pd.set_option('display.max_colwidth', None)\n",
    "\n",
    "# Loading csv into the 'jeopardy' data frame\n",
    "jeopardy = pd.read_csv('jeopardy.csv')\n",
    "\n",
    "print(jeopardy.columns)\n",
    "\n",
    "# Renaming columns (removing leading whitespace)\n",
    "jeopardy.rename(columns=lambda x: x.lstrip(), inplace=True)\n",
    "print(jeopardy.columns)"
   ]
  },
  {
   "cell_type": "markdown",
   "metadata": {},
   "source": [
    "2. Write a function that filters the dataset for questions that contains all of the words in a list of words. For example, when the list `[\"King\", \"England\"]` was passed to our function, the function returned a DataFrame of 49 rows. Every row had the strings `\"King\"` and `\"England\"` somewhere in its `\" Question\"`.\n",
    "\n",
    "   Test your function by printing out the column containing the question of each row of the dataset."
   ]
  },
  {
   "cell_type": "code",
   "execution_count": 2,
   "metadata": {},
   "outputs": [],
   "source": [
    "# Function that filters the dataset for questions that contains all of the words in a list of words\n",
    "# Returns a filtered dataset dataframe\n",
    "\n",
    "def filter_for(wordlist):\n",
    "\n",
    "  # Preventing capitalization from affecting the filtering by making all words in the wordlist lowercase\n",
    "  wordlist = [word.lower() for word in wordlist]\n",
    "    \n",
    "  result_df = jeopardy[jeopardy['Question'].apply(lambda x: set(wordlist).issubset(set(x.lower().split())))]\n",
    "\n",
    "  return result_df"
   ]
  },
  {
   "cell_type": "markdown",
   "metadata": {},
   "source": [
    "3. Test your original function with a few different sets of words to try to find some ways your function breaks. Edit your function so it is more robust.\n",
    "\n",
    "   For example, think about capitalization. We probably want to find questions that contain the word `\"King\"` or `\"king\"`.\n",
    "   \n",
    "   You may also want to check to make sure you don't find rows that contain substrings of your given words. For example, our function found a question that didn't contain the word `\"king\"`, however it did contain the word `\"viking\"` &mdash; it found the `\"king\"` inside `\"viking\"`. Note that this also comes with some drawbacks &mdash; you would no longer find questions that contained words like `\"England's\"`."
   ]
  },
  {
   "cell_type": "code",
   "execution_count": 3,
   "metadata": {},
   "outputs": [
    {
     "name": "stdout",
     "output_type": "stream",
     "text": [
      "6337               In retaliation for Viking raids, this \"Unready\" king of England attacks Norse areas of the Isle of Man\n",
      "9191                             This king of England beat the odds to trounce the French in the 1415 Battle of Agincourt\n",
      "13454                                                It's the number that followed the last king of England named William\n",
      "14912                   This country's King Louis IV was nicknamed \"Louis From Overseas\" because he was raised in England\n",
      "18076                     In 1199 this crusader king of England was mortally wounded while besieging the castle of Chalus\n",
      "                                                               ...                                                       \n",
      "200369    8th C. King Offa built a 170-mile north-south dike that still partly marks the border of England & this country\n",
      "201168                                           Popular Saint-Exupery character waiting around to become king of England\n",
      "208742                               Dutch-born king who ruled England jointly with Mary II & is a tasty New Zealand fish\n",
      "213870                         In 1781 William Herschel discovered Uranus & initially named it after this king of England\n",
      "216021                   His nickname was \"Bertie\", but he used this name & number when he became king of England in 1901\n",
      "Name: Question, Length: 74, dtype: object\n"
     ]
    }
   ],
   "source": [
    "filtered1 = filter_for(['king','england'])\n",
    "\n",
    "print(filtered1['Question'])"
   ]
  },
  {
   "cell_type": "markdown",
   "metadata": {},
   "source": [
    "4. We may want to eventually compute aggregate statistics, like `.mean()` on the `\" Value\"` column. But right now, the values in that column are strings. Convert the`\" Value\"` column to floats. If you'd like to, you can create a new column with float values.\n",
    "\n",
    "   Now that you can filter the dataset of question, use your new column that contains the float values of each question to find the \"difficulty\" of certain topics. For example, what is the average value of questions that contain the word `\"King\"`?\n",
    "   \n",
    "   Make sure to use the dataset that contains the float values as the dataset you use in your filtering function."
   ]
  },
  {
   "cell_type": "code",
   "execution_count": 4,
   "metadata": {},
   "outputs": [
    {
     "name": "stdout",
     "output_type": "stream",
     "text": [
      "The average value of questions containing the word \"King\" is:\n",
      "805.4698795180723\n"
     ]
    }
   ],
   "source": [
    "# Converting string values to float in a new column\n",
    "jeopardy['ValueFloat'] = jeopardy['Value'].apply(lambda x: float(0) if x == 'None' else float(x.lstrip('$').replace(',','')))\n",
    "\n",
    "# Filtering the dataset only for questions with the word king\n",
    "filtered2 = filter_for(['king'])\n",
    "\n",
    "print('The average value of questions containing the word \\\"King\\\" is:')\n",
    "print(filtered2['ValueFloat'].mean())"
   ]
  },
  {
   "cell_type": "markdown",
   "metadata": {},
   "source": [
    "5. Write a function that returns the count of unique answers to all of the questions in a dataset. For example, after filtering the entire dataset to only questions containing the word `\"King\"`, we could then find all of the unique answers to those questions. The answer \"Henry VIII\" appeared 55 times and was the most common answer."
   ]
  },
  {
   "cell_type": "code",
   "execution_count": 5,
   "metadata": {},
   "outputs": [
    {
     "name": "stdout",
     "output_type": "stream",
     "text": [
      "There are 88268 unique answers in the whole Jeopardy dataset\n"
     ]
    }
   ],
   "source": [
    "# Function that returns the count of unique answers to all of the questions in a dataset\n",
    "\n",
    "def count_uniq(dataframe):\n",
    "    \n",
    "    return dataframe['Answer'].nunique()\n",
    "\n",
    "print(\"There are \" + str(count_uniq(jeopardy)) + \" unique answers in the whole Jeopardy dataset\")"
   ]
  },
  {
   "cell_type": "markdown",
   "metadata": {},
   "source": [
    "6. Explore from here! This is an incredibly rich dataset, and there are so many interesting things to discover. There are a few columns that we haven't even started looking at yet. Here are some ideas on ways to continue working with this data:\n",
    "\n",
    " * Investigate the ways in which questions change over time by filtering by the date. How many questions from the 90s use the word `\"Computer\"` compared to questions from the 2000s?"
   ]
  },
  {
   "cell_type": "code",
   "execution_count": 6,
   "metadata": {},
   "outputs": [
    {
     "name": "stdout",
     "output_type": "stream",
     "text": [
      "71 questions from the 90s use the word \"Computer\", as opposed to 244 questions from the 2000s\n"
     ]
    }
   ],
   "source": [
    "# Adding the column with just the year information\n",
    "\n",
    "jeopardy['Year'] = jeopardy['Air Date'].apply(lambda x: str(x[:4]))\n",
    "\n",
    "# How many questions from the 90s use the word \"Computer\" compared to questions from the 2000s?\n",
    "\n",
    "filtered3 = filter_for(['Computer'])\n",
    "\n",
    "nineties = []\n",
    "twothousands = []\n",
    "\n",
    "filtered3['Year'].apply(lambda x: nineties.append(x) if int(x)<2000 else twothousands.append(x))\n",
    "\n",
    "print(str(len(nineties)) + \" questions from the 90s use the word \\\"Computer\\\", as opposed to \" + str(len(twothousands)) + \" questions from the 2000s\")"
   ]
  },
  {
   "cell_type": "markdown",
   "metadata": {},
   "source": [
    "* Is there a connection between the round and the category? Are you more likely to find certain categories, like `\"Literature\"` in Single Jeopardy or Double Jeopardy?"
   ]
  },
  {
   "cell_type": "code",
   "execution_count": 7,
   "metadata": {},
   "outputs": [
    {
     "name": "stdout",
     "output_type": "stream",
     "text": [
      "The category \"Literature\" is most likely to be found in \"Double Jeopardy!\" round\n"
     ]
    }
   ],
   "source": [
    "# Let's see how many occurrences of the \"Literature\" category are in each of the rounds\n",
    "numLitQ1 = len(jeopardy[(jeopardy['Round'] == 'Jeopardy!') & (jeopardy['Category'] == 'LITERATURE')].count(axis=1))\n",
    "numLitQ2 = len(jeopardy[(jeopardy['Round'] == 'Double Jeopardy!') & (jeopardy['Category'] == 'LITERATURE')].count(axis=1))\n",
    "numLitQ3 = len(jeopardy[(jeopardy['Round'] == 'Final Jeopardy!') & (jeopardy['Category'] == 'LITERATURE')].count(axis=1))\n",
    "numLitQ4 = len(jeopardy[(jeopardy['Round'] == 'Tiebreaker') & (jeopardy['Category'] == 'LITERATURE')].count(axis=1))\n",
    "\n",
    "# A list with number of occurrences of the \"Literature\" category per round\n",
    "numLit = [numLitQ1, numLitQ2, numLitQ3, numLitQ4]\n",
    "\n",
    "if numLit.index(max(numLit)) == 0:\n",
    "    \n",
    "    print(\"The category \\\"Literature\\\" is most likely to be found in \\\"Jeopardy!\\\" round\")\n",
    "    \n",
    "elif numLit.index(max(numLit)) == 1:\n",
    "    \n",
    "    print(\"The category \\\"Literature\\\" is most likely to be found in \\\"Double Jeopardy!\\\" round\")\n",
    "\n",
    "elif numLit.index(max(numLit)) == 2:\n",
    "    \n",
    "    print(\"The category \\\"Literature\\\" is most likely to be found in \\\"Final Jeopardy!\\\" round\")\n",
    "\n",
    "elif numLit.index(max(numLit)) == 3:\n",
    "    \n",
    "    print(\"The category \\\"Literature\\\" is most likely to be found in \\\"Tiebreaker\\\" round\")\n"
   ]
  },
  {
   "cell_type": "markdown",
   "metadata": {},
   "source": [
    "* Build a system to quiz yourself. Grab random questions, and use the <a href=\"https://docs.python.org/3/library/functions.html#input\">input</a> function to get a response from the user. Check to see if that response was right or wrong."
   ]
  },
  {
   "cell_type": "code",
   "execution_count": null,
   "metadata": {},
   "outputs": [
    {
     "name": "stdout",
     "output_type": "stream",
     "text": [
      "Welcome to Jeopardy!\n",
      "\n",
      "Please choose the round you would like to play (type in the respective integer):\n",
      "1. Jeopardy!\n",
      "2. Double Jeopardy!\n",
      "3. Final Jeopardy!\n",
      "4. Tiebreaker\n",
      "\n"
     ]
    }
   ],
   "source": [
    "print(\"Welcome to Jeopardy!\")\n",
    "print(\"\")\n",
    "print(\"Please choose the round you would like to play (type in the respective integer):\" + \"\\n\" + \"1. Jeopardy!\" + \"\\n\" +\"2. Double Jeopardy!\" + \"\\n\" + \"3. Final Jeopardy!\" + \"\\n\" + \"4. Tiebreaker\")\n",
    "print(\"\")\n",
    "\n",
    "# Variable to store user's input and chosen round name\n",
    "answer = input()\n",
    "rndName = \"\"\n",
    "\n",
    "# Choosing the round\n",
    "if answer == \"1\":\n",
    "    rndName = \"Jeopardy!\"\n",
    "    print(\"You've chosen Jeopardy!\")\n",
    "elif answer == \"2\":\n",
    "    rndName = \"Double Jeopardy!\"\n",
    "    print(\"You've chosen Double Jeopardy!\")\n",
    "elif answer == \"3\":\n",
    "    rndName = \"Final Jeopardy!\"\n",
    "    print(\"You've chosen Final Jeopardy!\")\n",
    "elif answer == \"4\":\n",
    "    rndName = \"Tiebreaker\"\n",
    "    print(\"You've chosen Tiebreaker\")\n",
    "else:\n",
    "    print(\"Sorry, there is no round under that integer. Maybe try again?\")\n",
    "    \n",
    "# \n",
    "print(\"\")\n",
    "print(\"Now get ready for your question! In 3,2,1...\")\n",
    "print(\"\")\n",
    "\n",
    "# Getting the question and answer from the whole jeopardy dataset in the required category\n",
    "\n",
    "questionDf = jeopardy[jeopardy['Round'] == rndName].sample(n=1,replace=False) \n",
    "print(questionDf['Question'].values[0])\n",
    "\n",
    "print(questionDf['Answer'].values[0])\n",
    "\n",
    "# Prompting user for answer + ensuring its \"comparison\" compatibility\n",
    "qAnswer = input()\n",
    "qAnswer = qAnswer.strip().lower()\n",
    "\n",
    "corrAnswer = questionDf['Answer'].values[0].lower()\n",
    "\n",
    "if qAnswer == '':\n",
    "    print(\"Sorry, you did not type anything in\")\n",
    "elif qAnswer == corrAnswer:\n",
    "    print(\"Amazing! You got it right!\")\n",
    "else:\n",
    "    print(\"Sorry, wrong answer :( \")"
   ]
  },
  {
   "cell_type": "code",
   "execution_count": null,
   "metadata": {},
   "outputs": [],
   "source": []
  }
 ],
 "metadata": {
  "kernelspec": {
   "display_name": "Python 3 (ipykernel)",
   "language": "python",
   "name": "python3"
  },
  "language_info": {
   "codemirror_mode": {
    "name": "ipython",
    "version": 3
   },
   "file_extension": ".py",
   "mimetype": "text/x-python",
   "name": "python",
   "nbconvert_exporter": "python",
   "pygments_lexer": "ipython3",
   "version": "3.9.13"
  }
 },
 "nbformat": 4,
 "nbformat_minor": 2
}
